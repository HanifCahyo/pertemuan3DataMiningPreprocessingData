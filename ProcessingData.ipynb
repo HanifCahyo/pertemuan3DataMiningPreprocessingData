{
  "nbformat": 4,
  "nbformat_minor": 0,
  "metadata": {
    "colab": {
      "provenance": [],
      "authorship_tag": "ABX9TyMuUXnDM9FbZspWpLPJjZxh",
      "include_colab_link": true
    },
    "kernelspec": {
      "name": "python3",
      "display_name": "Python 3"
    },
    "language_info": {
      "name": "python"
    }
  },
  "cells": [
    {
      "cell_type": "markdown",
      "metadata": {
        "id": "view-in-github",
        "colab_type": "text"
      },
      "source": [
        "<a href=\"https://colab.research.google.com/github/HanifCahyo/pertemuan3DataMiningPreprocessingData/blob/main/ProcessingData.ipynb\" target=\"_parent\"><img src=\"https://colab.research.google.com/assets/colab-badge.svg\" alt=\"Open In Colab\"/></a>"
      ]
    },
    {
      "cell_type": "markdown",
      "source": [
        "Buat import library yang dibutuhkan"
      ],
      "metadata": {
        "id": "8B6KlS9aluvn"
      }
    },
    {
      "cell_type": "code",
      "execution_count": 1,
      "metadata": {
        "id": "_DDRWylHkyMF"
      },
      "outputs": [],
      "source": [
        "# Numpy merupakan library yang digunakan untuk operasi matriks dan array\n",
        "import numpy as np\n",
        "\n",
        "# Matplotlib merupakan library yang digunakan untuk visualisasi data\n",
        "import matplotlib.pyplot as plt\n",
        "\n",
        "# Pandas merupakan library yang digunakan untuk manipulasi data\n",
        "import pandas as pd\n",
        "\n",
        "# Scikit-learn merupakan library yang digunakan untuk machine learning\n",
        "import sklearn as sk\n"
      ]
    },
    {
      "cell_type": "markdown",
      "source": [
        "Untuk Mengambil data dari file \"data - copy.csv\""
      ],
      "metadata": {
        "id": "Ut3xZkR5mRKB"
      }
    },
    {
      "cell_type": "code",
      "source": [
        "dataset = pd.read_csv(\"Data - Copy.csv\")  # Membaca file csv\n",
        "x = dataset.iloc[:, :-1].values  # Mengambil semua data kecuali kolom terakhir\n",
        "y = dataset.iloc[:, -1].values  # Mengambil kolom terakhir\n",
        "print(x)\n",
        "print(y)"
      ],
      "metadata": {
        "colab": {
          "base_uri": "https://localhost:8080/"
        },
        "id": "QV1tsUJQl1BD",
        "outputId": "83381e5b-df3b-4b1e-dd7f-5a18ec5c31f4"
      },
      "execution_count": 3,
      "outputs": [
        {
          "output_type": "stream",
          "name": "stdout",
          "text": [
            "[['PNS' 27.0 nan]\n",
            " ['Guru' nan 4800000.0]\n",
            " ['Dosen' 53.0 nan]\n",
            " ['PNS' 45.0 5000000.0]\n",
            " ['Buruh' 47.0 1900000.0]\n",
            " ['Guru' nan 5800000.0]\n",
            " ['Dosen' 32.0 nan]\n",
            " ['Buruh' nan 3500000.0]\n",
            " ['Polisi' 29.0 8300000.0]\n",
            " ['Tentara' nan nan]]\n",
            "['No' 'Yes' 'No' 'Yes' 'No' 'No' 'No' 'Yes' 'No' 'Yes']\n"
          ]
        }
      ]
    },
    {
      "cell_type": "markdown",
      "source": [
        "menambahkan nilai nan dengan mean rata rata"
      ],
      "metadata": {
        "id": "66wd1bunmjvw"
      }
    },
    {
      "cell_type": "code",
      "source": [
        "from sklearn.impute import SimpleImputer\n",
        "\n",
        "imputer = SimpleImputer(missing_values=np.nan, strategy=\"mean\")\n",
        "imputer.fit(x[:, 1:3])\n",
        "x[:, 1:3] = imputer.transform(x[:, 1:3])\n",
        "print(x)"
      ],
      "metadata": {
        "colab": {
          "base_uri": "https://localhost:8080/"
        },
        "id": "T5ZD3cCCmZRL",
        "outputId": "66e947e5-ea18-4e56-8878-14cf6c942eda"
      },
      "execution_count": 5,
      "outputs": [
        {
          "output_type": "stream",
          "name": "stdout",
          "text": [
            "[['PNS' 27.0 4883333.333333333]\n",
            " ['Guru' 38.833333333333336 4800000.0]\n",
            " ['Dosen' 53.0 4883333.333333333]\n",
            " ['PNS' 45.0 5000000.0]\n",
            " ['Buruh' 47.0 1900000.0]\n",
            " ['Guru' 38.833333333333336 5800000.0]\n",
            " ['Dosen' 32.0 4883333.333333333]\n",
            " ['Buruh' 38.833333333333336 3500000.0]\n",
            " ['Polisi' 29.0 8300000.0]\n",
            " ['Tentara' 38.833333333333336 4883333.333333333]]\n"
          ]
        }
      ]
    },
    {
      "cell_type": "markdown",
      "source": [
        "merubah string menjadi numerikal ex : PNS menjadi 1.0 0.0 0.0 0.0 1.0 0.0 0.0"
      ],
      "metadata": {
        "id": "HPFicPjSmwYa"
      }
    },
    {
      "cell_type": "code",
      "source": [
        "from sklearn.compose import (\n",
        "    ColumnTransformer,\n",
        ")  # ColumnTransformer untuk mengubah data kategorikal menjadi numerikal\n",
        "from sklearn.preprocessing import (\n",
        "    OneHotEncoder,\n",
        ")  # OneHotEncoder untuk mengubah data kategorikal menjadi numerikal\n",
        "\n",
        "ct = ColumnTransformer(\n",
        "    transformers=[(\"encoder\", OneHotEncoder(), [0])], remainder=\"passthrough\"\n",
        ")  # OneHotEncoder untuk mengubah data kategorikal menjadi numerikal\n",
        "\n",
        "x = np.array(ct.fit_transform(x))  # Mengubah data kategorikal menjadi numerikal\n",
        "print(x)"
      ],
      "metadata": {
        "colab": {
          "base_uri": "https://localhost:8080/"
        },
        "id": "_PXCkxiVmoqy",
        "outputId": "ab4f303d-c58c-45fc-cd91-6ae0760d7975"
      },
      "execution_count": 7,
      "outputs": [
        {
          "output_type": "stream",
          "name": "stdout",
          "text": [
            "[[1.0 0.0 0.0 0.0 1.0 0.0 0.0 27.0 4883333.333333333]\n",
            " [1.0 0.0 0.0 1.0 0.0 0.0 0.0 38.833333333333336 4800000.0]\n",
            " [1.0 0.0 1.0 0.0 0.0 0.0 0.0 53.0 4883333.333333333]\n",
            " [1.0 0.0 0.0 0.0 1.0 0.0 0.0 45.0 5000000.0]\n",
            " [0.0 1.0 0.0 0.0 0.0 0.0 0.0 47.0 1900000.0]\n",
            " [1.0 0.0 0.0 1.0 0.0 0.0 0.0 38.833333333333336 5800000.0]\n",
            " [1.0 0.0 1.0 0.0 0.0 0.0 0.0 32.0 4883333.333333333]\n",
            " [0.0 1.0 0.0 0.0 0.0 0.0 0.0 38.833333333333336 3500000.0]\n",
            " [1.0 0.0 0.0 0.0 0.0 1.0 0.0 29.0 8300000.0]\n",
            " [1.0 0.0 0.0 0.0 0.0 0.0 1.0 38.833333333333336 4883333.333333333]]\n"
          ]
        }
      ]
    },
    {
      "cell_type": "markdown",
      "source": [
        "menambahkan kolom label pada data dengan nilai 1 atau 0"
      ],
      "metadata": {
        "id": "4mhpuPsKnNFX"
      }
    },
    {
      "cell_type": "code",
      "source": [
        "from sklearn.preprocessing import (\n",
        "    LabelEncoder,\n",
        ")  # LabelEncoder untuk mengubah data kategorikal menjadi numerikal\n",
        "\n",
        "le = LabelEncoder()  # LabelEncoder untuk mengubah data kategorikal menjadi numerikal\n",
        "y = le.fit_transform(y)  # Mengubah data kategorikal menjadi numerikal\n",
        "print(y)  # Menampilkan data y"
      ],
      "metadata": {
        "colab": {
          "base_uri": "https://localhost:8080/"
        },
        "id": "D_G24KVqm8W5",
        "outputId": "8a6089b2-cb28-44a8-828a-56ea38723008"
      },
      "execution_count": 8,
      "outputs": [
        {
          "output_type": "stream",
          "name": "stdout",
          "text": [
            "[0 1 0 1 0 0 0 1 0 1]\n"
          ]
        }
      ]
    },
    {
      "cell_type": "code",
      "source": [
        "from sklearn.model_selection import (\n",
        "    train_test_split,\n",
        ")  # train_test_split untuk membagi data menjadi data training dan data testing\n",
        "\n",
        "x_train, x_test, y_train, y_test = train_test_split(\n",
        "    x, y, test_size=0.2, random_state=1\n",
        ")  # Memisahkan data menjadi data training dan data testing"
      ],
      "metadata": {
        "id": "Msw10K-wnSi5"
      },
      "execution_count": 9,
      "outputs": []
    },
    {
      "cell_type": "markdown",
      "source": [
        "mendapatkan data x train 80% dari kapasitas"
      ],
      "metadata": {
        "id": "gvT6vhoOnfc3"
      }
    },
    {
      "cell_type": "code",
      "source": [
        "print(x_train)  # Menampilkan data x_train"
      ],
      "metadata": {
        "colab": {
          "base_uri": "https://localhost:8080/"
        },
        "id": "U_8ZMW1rnXh2",
        "outputId": "d2d4e0c4-6db8-493d-e7a0-969d8f4e8f53"
      },
      "execution_count": 10,
      "outputs": [
        {
          "output_type": "stream",
          "name": "stdout",
          "text": [
            "[[1.0 0.0 1.0 0.0 0.0 0.0 0.0 32.0 4883333.333333333]\n",
            " [0.0 1.0 0.0 0.0 0.0 0.0 0.0 47.0 1900000.0]\n",
            " [1.0 0.0 0.0 0.0 1.0 0.0 0.0 27.0 4883333.333333333]\n",
            " [1.0 0.0 0.0 0.0 1.0 0.0 0.0 45.0 5000000.0]\n",
            " [1.0 0.0 0.0 1.0 0.0 0.0 0.0 38.833333333333336 4800000.0]\n",
            " [0.0 1.0 0.0 0.0 0.0 0.0 0.0 38.833333333333336 3500000.0]\n",
            " [1.0 0.0 0.0 0.0 0.0 1.0 0.0 29.0 8300000.0]\n",
            " [1.0 0.0 0.0 1.0 0.0 0.0 0.0 38.833333333333336 5800000.0]]\n"
          ]
        }
      ]
    },
    {
      "cell_type": "markdown",
      "source": [
        "mendapatkan data x test 20% dari kapasitas"
      ],
      "metadata": {
        "id": "Ra-Txn8bnobw"
      }
    },
    {
      "cell_type": "code",
      "source": [
        "print(x_test)  # Menampilkan data x_test"
      ],
      "metadata": {
        "colab": {
          "base_uri": "https://localhost:8080/"
        },
        "id": "OhkM-R-ynk7_",
        "outputId": "84be1d0b-0a52-42eb-cb4f-18708f763811"
      },
      "execution_count": 11,
      "outputs": [
        {
          "output_type": "stream",
          "name": "stdout",
          "text": [
            "[[1.0 0.0 1.0 0.0 0.0 0.0 0.0 53.0 4883333.333333333]\n",
            " [1.0 0.0 0.0 0.0 0.0 0.0 1.0 38.833333333333336 4883333.333333333]]\n"
          ]
        }
      ]
    },
    {
      "cell_type": "markdown",
      "source": [
        "mendapatkan data y train 80 persen"
      ],
      "metadata": {
        "id": "Bz0WbZiWn3A2"
      }
    },
    {
      "cell_type": "code",
      "source": [
        "print(y_train)  # Menampilkan data y_train"
      ],
      "metadata": {
        "colab": {
          "base_uri": "https://localhost:8080/"
        },
        "id": "Pm5XIXOTnwfd",
        "outputId": "359ba1f4-5027-4119-caad-d466eacf6597"
      },
      "execution_count": 12,
      "outputs": [
        {
          "output_type": "stream",
          "name": "stdout",
          "text": [
            "[0 0 0 1 1 1 0 0]\n"
          ]
        }
      ]
    },
    {
      "cell_type": "markdown",
      "source": [
        "mendapatkan data y test 20 persen dari kapasitas"
      ],
      "metadata": {
        "id": "KjmbNqeYoEIK"
      }
    },
    {
      "cell_type": "code",
      "source": [
        "print(y_test)  # Menampilkan data y_test"
      ],
      "metadata": {
        "id": "-oY43clen_zX"
      },
      "execution_count": null,
      "outputs": []
    },
    {
      "cell_type": "markdown",
      "source": [
        "melakukan distribusi pada kolom umur dan pendapatan"
      ],
      "metadata": {
        "id": "MzEtIaNnoTnV"
      }
    },
    {
      "cell_type": "code",
      "source": [
        "from sklearn.preprocessing import (\n",
        "    StandardScaler,\n",
        ")  # StandardScaler untuk mengubah data menjadi data yang berdistribusi normal\n",
        "\n",
        "sc = (\n",
        "    StandardScaler()\n",
        ")  # StandardScaler untuk mengubah data menjadi data yang berdistribusi normal\n",
        "x_train[:, 3:] = sc.fit_transform(\n",
        "    x_train[:, 3:]\n",
        ")  # Mengubah data menjadi data yang berdistribusi normal\n",
        "x_test[:, 3:] = sc.transform(\n",
        "    x_test[:, 3:]\n",
        ")  # Mengubah data menjadi data yang berdistribusi normal"
      ],
      "metadata": {
        "id": "D4eYzox7oKVX"
      },
      "execution_count": 14,
      "outputs": []
    },
    {
      "cell_type": "markdown",
      "source": [
        "menampilkan kolom pekerjaan, umur, pendapatan"
      ],
      "metadata": {
        "id": "_KGt1fXLocEn"
      }
    },
    {
      "cell_type": "code",
      "source": [
        "print(x_train)  # Menampilkan data x_train\n",
        "print(x_test)  # Menampilkan data x_test"
      ],
      "metadata": {
        "colab": {
          "base_uri": "https://localhost:8080/"
        },
        "id": "Ze9qbr0ToY_L",
        "outputId": "4506ae72-dc5b-49b1-da3c-12e411a13601"
      },
      "execution_count": 15,
      "outputs": [
        {
          "output_type": "stream",
          "name": "stdout",
          "text": [
            "[[1.0 0.0 1.0 -0.5773502691896258 -0.5773502691896258 -0.3779644730092272\n",
            "  0.0 -0.7514940789148868 -1.8041124150158794e-16]\n",
            " [0.0 1.0 0.0 -0.5773502691896258 -0.5773502691896258 -0.3779644730092272\n",
            "  0.0 1.4751550437958885 -1.7462999100741547]\n",
            " [1.0 0.0 0.0 -0.5773502691896258 1.7320508075688774 -0.3779644730092272\n",
            "  0.0 -1.4937104531518122 -1.8041124150158794e-16]\n",
            " [1.0 0.0 0.0 -0.5773502691896258 1.7320508075688774 -0.3779644730092272\n",
            "  0.0 1.1782684941011186 0.0682910579358608]\n",
            " [1.0 0.0 0.0 1.7320508075688774 -0.5773502691896258 -0.3779644730092272\n",
            "  0.0 0.26286829920891125 -0.048779327097043426]\n",
            " [0.0 1.0 0.0 -0.5773502691896258 -0.5773502691896258 -0.3779644730092272\n",
            "  0.0 0.26286829920891125 -0.8097368298109209]\n",
            " [1.0 0.0 0.0 -0.5773502691896258 -0.5773502691896258 2.6457513110645907\n",
            "  0.0 -1.196823903457042 1.9999524109787805]\n",
            " [1.0 0.0 0.0 1.7320508075688774 -0.5773502691896258 -0.3779644730092272\n",
            "  0.0 0.26286829920891125 0.5365725980674777]]\n",
            "[[1.0 0.0 1.0 -0.5773502691896258 -0.5773502691896258 -0.3779644730092272\n",
            "  0.0 2.3658146928801993 -1.8041124150158794e-16]\n",
            " [1.0 0.0 0.0 -0.5773502691896258 -0.5773502691896258 -0.3779644730092272\n",
            "  1.0 0.26286829920891125 -1.8041124150158794e-16]]\n"
          ]
        }
      ]
    },
    {
      "cell_type": "markdown",
      "source": [
        "mendapatkan kolom label ya atau tidak"
      ],
      "metadata": {
        "id": "yoTOZxS-op2H"
      }
    },
    {
      "cell_type": "code",
      "source": [
        "print(y_train)  # Menampilkan data y_train\n",
        "print(y_test)  # Menampilkan data y_test"
      ],
      "metadata": {
        "colab": {
          "base_uri": "https://localhost:8080/"
        },
        "id": "P4blmSGKomf1",
        "outputId": "df11312b-167a-46e5-fa98-297a4dbe6554"
      },
      "execution_count": 16,
      "outputs": [
        {
          "output_type": "stream",
          "name": "stdout",
          "text": [
            "[0 0 0 1 1 1 0 0]\n",
            "[0 1]\n"
          ]
        }
      ]
    }
  ]
}